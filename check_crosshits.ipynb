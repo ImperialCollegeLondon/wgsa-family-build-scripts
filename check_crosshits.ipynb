{
 "cells": [
  {
   "cell_type": "code",
   "execution_count": 10,
   "metadata": {
    "collapsed": true
   },
   "outputs": [
    {
     "name": "stdout",
     "output_type": "stream",
     "text": [
      "group_2439\tgroup_2417\t95.238\t42\t2\t0\t84\t125\t1167\t1208\t1.21e-11\t67.6\ngroup_3406\tgroup_1748\t100.000\t29\t0\t0\t1\t29\t29\t1\t9.13e-09\t54.7\ngroup_3261\tgroup_3261\t87.778\t180\t10\t1\t1490\t1657\t1199\t1378\t1.92e-51\t200\ngroup_3261\tgroup_3261\t87.778\t180\t10\t1\t1199\t1378\t1490\t1657\t1.92e-51\t200\nrluF\trluB\t92.308\t39\t1\t2\t103\t140\t352\t389\t3.69e-08\t54.7\ngroup_3219\tWHO_U_group_3327__typA\t91.209\t91\t8\t0\t137\t227\t83\t173\t8.28e-30\t124\nrmuC\trmuC\t90.625\t160\t15\t0\t503\t662\t230\t389\t1.38e-55\t213\nrmuC\trmuC\t90.625\t160\t15\t0\t230\t389\t503\t662\t1.38e-55\t213\naceF\tlpdA\t84.729\t203\t31\t0\t10\t212\t10\t212\t7.23e-53\t204\ngroup_2417\tgroup_2439\t95.238\t42\t2\t0\t1167\t1208\t84\t125\t1.18e-11\t67.6\ndnaJ_1\tdnaJ_2\t85.897\t78\t11\t0\t67\t144\t70\t147\t4.29e-17\t84.2\ngroup_1748\tgroup_3406\t100.000\t29\t0\t0\t1\t29\t29\t1\t9.88e-09\t54.7\nlpdA\taceF\t84.729\t203\t31\t0\t10\t212\t10\t212\t8.27e-53\t204\nrluB\trluF\t92.308\t39\t1\t2\t352\t389\t103\t140\t5.15e-08\t54.7\ngroup_486\tgroup_486\t88.000\t75\t9\t0\t222\t296\t296\t222\t4.46e-19\t89.8\ndnaJ_2\tdnaJ_1\t85.897\t78\t11\t0\t70\t147\t67\t144\t7.03e-17\t84.2\nWHO_U_group_3327__typA\tgroup_3219\t91.209\t91\t8\t0\t83\t173\t137\t227\t7.73e-29\t124\n"
     ]
    }
   ],
   "source": [
    "import sys\n",
    "\n",
    "path = '/Users/cyeats/cy2@sanger.ac.uk/CGPS/Projects/WGSA/Neisseria_gonorrhoeae/Core_family_II/foo'\n",
    "\n",
    "for line in open(path, 'r').readlines():\n",
    "    (id1, id2, pid) = line.replace('\\n', '').split()[0:3]\n",
    "    if id1 != id2 or float(pid) != 100.0:\n",
    "        print(line, end='')\n"
   ]
  },
  {
   "cell_type": "code",
   "execution_count": 8,
   "metadata": {},
   "outputs": [],
   "source": []
  },
  {
   "cell_type": "code",
   "execution_count": null,
   "metadata": {},
   "outputs": [],
   "source": []
  }
 ],
 "metadata": {
  "kernelspec": {
   "display_name": "Python 2",
   "language": "python",
   "name": "python2"
  },
  "language_info": {
   "codemirror_mode": {
    "name": "ipython",
    "version": 2
   },
   "file_extension": ".py",
   "mimetype": "text/x-python",
   "name": "python",
   "nbconvert_exporter": "python",
   "pygments_lexer": "ipython2",
   "version": "2.7.6"
  }
 },
 "nbformat": 4,
 "nbformat_minor": 0
}
